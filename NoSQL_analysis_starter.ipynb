{
  "metadata": {
    "kernelspec": {
      "name": "python",
      "display_name": "Python (Pyodide)",
      "language": "python"
    },
    "language_info": {
      "codemirror_mode": {
        "name": "ipython",
        "version": 3
      },
      "file_extension": ".py",
      "mimetype": "text/x-python",
      "name": "python",
      "nbconvert_exporter": "python",
      "pygments_lexer": "ipython3",
      "version": "3.10.4"
    }
  },
  "nbformat_minor": 5,
  "nbformat": 4,
  "cells": [
    {
      "id": "9a57c4c6",
      "cell_type": "markdown",
      "source": "# Eat Safe, Love",
      "metadata": {}
    },
    {
      "id": "064ef857",
      "cell_type": "markdown",
      "source": "## Notebook Set Up",
      "metadata": {}
    },
    {
      "id": "3ecdd008",
      "cell_type": "code",
      "source": "# Import dependencies\nfrom pymongo import MongoClient\nfrom pprint import pprint",
      "metadata": {},
      "outputs": [],
      "execution_count": null
    },
    {
      "id": "59390c4a",
      "cell_type": "code",
      "source": "# Create an instance of MongoClient\nmongo = MongoClient(port=27017)",
      "metadata": {},
      "outputs": [],
      "execution_count": null
    },
    {
      "id": "71e373c1",
      "cell_type": "code",
      "source": "# assign the uk_food database to a variable name\ndb = mongo['uk_food']",
      "metadata": {},
      "outputs": [],
      "execution_count": null
    },
    {
      "id": "18ab463c",
      "cell_type": "code",
      "source": "# review the collections in our database\nprint(food_db.list_collection_names())",
      "metadata": {},
      "outputs": [],
      "execution_count": null
    },
    {
      "id": "11c9f11b",
      "cell_type": "code",
      "source": "# assign the collection to a variable\nestablishments = db['establishments']",
      "metadata": {},
      "outputs": [],
      "execution_count": null
    },
    {
      "id": "d5671434",
      "cell_type": "markdown",
      "source": "## Part 3: Exploratory Analysis\nUnless otherwise stated, for each question: \n* Use `count_documents` to display the number of documents contained in the result.\n* Display the first document in the results using `pprint`.\n* Convert the result to a Pandas DataFrame, print the number of rows in the DataFrame, and display the first 10 rows.",
      "metadata": {}
    },
    {
      "id": "314bd884",
      "cell_type": "markdown",
      "source": "### 1. Which establishments have a hygiene score equal to 20?",
      "metadata": {}
    },
    {
      "id": "c2da7648",
      "cell_type": "code",
      "source": "# Find the establishments with a hygiene score of 20\nquery = {'scores.Hygiene': 20}\n\n# Use count_documents to display the number of documents in the result\ncount = establishments.count_documents(query)\npprint(f\"{count} establishments with a hygiene score of 20.\")\n# Display the first document in the results using pprint\npprint(establishments.find_one(query))",
      "metadata": {},
      "outputs": [],
      "execution_count": null
    },
    {
      "id": "a6e5cece",
      "cell_type": "code",
      "source": "# Convert the result to a Pandas DataFrame\ndf = pd.DataFrame(establishments.find(query))\n# Display the number of rows in the DataFrame\npprint(f\"{len(df)} rows in this DataFrame.\")\n# Display the first 10 rows of the DataFrame\ndf.head(10)",
      "metadata": {},
      "outputs": [],
      "execution_count": null
    },
    {
      "id": "0ef4395a",
      "cell_type": "markdown",
      "source": "### 2. Which establishments in London have a `RatingValue` greater than or equal to 4?",
      "metadata": {}
    },
    {
      "id": "93c63829",
      "cell_type": "code",
      "source": "# Find the establishments with London as the Local Authority and has a RatingValue greater than or equal to 4.\nquery_RV = {'LocalAuthorityName': {'$regex': 'London'}, \n          'RatingValue': {'$gte': '4'}\n         }\n\n# Use count_documents to display the number of documents in the result\ncount_RV = establishments.count_documents(query_RV)\npprint(f\"{count_RV} establishments in London that have a Rating greater than or equal to 4.\")\n# Display the first document in the results using pprint\npprint(establishments.find_one(query_RV))",
      "metadata": {},
      "outputs": [],
      "execution_count": null
    },
    {
      "id": "07e24ccb",
      "cell_type": "code",
      "source": "# Convert the result to a Pandas DataFrame\ndf_RatingValue = pd.DataFrame(establishments.find(query_RV))\n# Display the number of rows in the DataFrame\npprint(f\"{len(df_RatingValue)} rows in this DataFrame.\")\n# Display the first 10 rows of the DataFrame\ndf_RatingValue.head(10)",
      "metadata": {},
      "outputs": [],
      "execution_count": null
    },
    {
      "id": "4e570caf",
      "cell_type": "markdown",
      "source": "### 3. What are the top 5 establishments with a `RatingValue` rating value of 5, sorted by lowest hygiene score, nearest to the new restaurant added, \"Penang Flavours\"?",
      "metadata": {},
      "attachments": {}
    },
    {
      "id": "b9763abe-23c7-4d5f-b4fa-fa6c8e4288d9",
      "cell_type": "code",
      "source": "pprint(establishments.find_one({'BusinessName': 'Penang Flavours'}, {'geocode.latitude', 'geocode.longitude'}",
      "metadata": {},
      "outputs": [],
      "execution_count": null
    },
    {
      "id": "b66360f2-cd59-4c4a-9ded-39c4c5a46fcc",
      "cell_type": "code",
      "source": "# Search within 0.01 degree on either side of the latitude and longitude.\n# Rating value must equal 5\n# Sort by hygiene score\n\ndegree_search = 0.01\nlatitude = 51.490142\nlongitude = 0.08384\n\nquery_HS = {'RatingValue': '5', \n         'geocode.latitude': {'$lte': (latitude + degree_search), '$gte': (latitude - degree_search)}, \n         'geocode.longitude': {'$lte': (longitude + degree_search), '$gte': (longitude - degree_search)} \n         }\nsort =  [('scores.Hygiene', 1)]\n\n# Print the results\nfor result in establishments.find(query_HS).sort(sort).limit(5):\n    pprint(result)",
      "metadata": {},
      "outputs": [],
      "execution_count": null
    },
    {
      "id": "a6ad16f7",
      "cell_type": "code",
      "source": "# Convert result to Pandas DataFrame\npd.DataFrame(establishments.find(query_HS).sort(sort).limit(5))",
      "metadata": {},
      "outputs": [],
      "execution_count": null
    },
    {
      "id": "67281254",
      "cell_type": "markdown",
      "source": "### 4. How many establishments in each Local Authority area have a hygiene score of 0?",
      "metadata": {}
    },
    {
      "id": "4eeb227e",
      "cell_type": "code",
      "source": "# Create a pipeline that: \n# 1. Matches establishments with a hygiene score of 0\nmatch_query = {'$match': {'scores.Hygiene': 0}}\n# 2. Groups the matches by Local Authority\ngroup_query = {'$group': {'_id': '$LocalAuthorityName', \n                          'count': {'$sum': 1}\n                         }\n              }\n# 3. Sorts the matches from highest to lowest\nsort_query = {'$sort': {'count': -1}}\n\npipeline = [match_query, group_query, sort_query]\n\nresults = list(establishments.aggregate(pipeline))\n# Print the number of documents in the result\npprint(f\"{len(results)} documents.\")\n# Print the first 10 results\npprint(results[0:10])",
      "metadata": {},
      "outputs": [],
      "execution_count": null
    },
    {
      "id": "d8aab364",
      "cell_type": "code",
      "source": "# Convert the result to a Pandas DataFrame\nLAGG_df = pd.json_normalize(results)\n# Display the number of rows in the DataFrame\nprint(f\"{len(LAGG_df)} rows in the DataFrame.\")\n# Display the first 10 rows of the DataFrame\nLAGG_df.head(10)",
      "metadata": {},
      "outputs": [],
      "execution_count": null
    }
  ]
}