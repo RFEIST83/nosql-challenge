{
  "metadata": {
    "kernelspec": {
      "name": "python",
      "display_name": "Python (Pyodide)",
      "language": "python"
    },
    "language_info": {
      "codemirror_mode": {
        "name": "ipython",
        "version": 3
      },
      "file_extension": ".py",
      "mimetype": "text/x-python",
      "name": "python",
      "nbconvert_exporter": "python",
      "pygments_lexer": "ipython3",
      "version": "3.10.4"
    }
  },
  "nbformat_minor": 5,
  "nbformat": 4,
  "cells": [
    {
      "id": "9a57c4c6",
      "cell_type": "markdown",
      "source": "# Eat Safe, Love",
      "metadata": {}
    },
    {
      "id": "064ef857",
      "cell_type": "markdown",
      "source": "## Part 1: Database and Jupyter Notebook Set Up",
      "metadata": {}
    },
    {
      "id": "664e3c1f",
      "cell_type": "markdown",
      "source": "Import the data provided in the `establishments.json` file from your Terminal. Name the database `uk_food` and the collection `establishments`.\n\nWithin this markdown cell, copy the line of text you used to import the data from your Terminal. This way, future analysts will be able to repeat your process.\n\ne.g.: Import the dataset with `YOUR IMPORT TEXT HERE`",
      "metadata": {}
    },
    {
      "id": "3ecdd008",
      "cell_type": "code",
      "source": "# Import dependencies\nfrom pymongo import MongoClient\nfrom pprint import pprint",
      "metadata": {},
      "outputs": [],
      "execution_count": null
    },
    {
      "id": "59390c4a",
      "cell_type": "code",
      "source": "# Create an instance of MongoClient\nmongo = MongoClient(port=27017)",
      "metadata": {},
      "outputs": [],
      "execution_count": null
    },
    {
      "id": "7f9ececa",
      "cell_type": "code",
      "source": "# confirm that our new database was created\nprint(mongo.list_database_names())",
      "metadata": {},
      "outputs": [],
      "execution_count": null
    },
    {
      "id": "71e373c1",
      "cell_type": "code",
      "source": "# assign the uk_food database to a variable name\ndb = mongo['uk_food']",
      "metadata": {},
      "outputs": [],
      "execution_count": null
    },
    {
      "id": "ef1b89ed",
      "cell_type": "code",
      "source": "# review the collections in our new database\nprint(db.list_collection_names())",
      "metadata": {},
      "outputs": [],
      "execution_count": null
    },
    {
      "id": "18ab463c",
      "cell_type": "code",
      "source": "# review the collections in our new database\n",
      "metadata": {},
      "outputs": [],
      "execution_count": null
    },
    {
      "id": "6a0d92df",
      "cell_type": "code",
      "source": "# review a document in the establishments collection\npprint(db.establishments.find_one())",
      "metadata": {},
      "outputs": [],
      "execution_count": null
    },
    {
      "id": "11c9f11b",
      "cell_type": "code",
      "source": "# assign the collection to a variable\nestablishments = db['establishments']",
      "metadata": {},
      "outputs": [],
      "execution_count": null
    },
    {
      "id": "d5671434",
      "cell_type": "markdown",
      "source": "## Part 2: Update the Database",
      "metadata": {}
    },
    {
      "id": "314bd884",
      "cell_type": "markdown",
      "source": "1. An exciting new halal restaurant just opened in Greenwich, but hasn't been rated yet. The magazine has asked you to include it in your analysis. Add the following restaurant \"Penang Flavours\" to the database.",
      "metadata": {}
    },
    {
      "id": "c2da7648",
      "cell_type": "code",
      "source": "# Create a dictionary for the new restaurant data\n\nnew_restaurant = {\n    \"BusinessName\":\"Penang Flavours\",\n    \"BusinessType\":\"Restaurant/Cafe/Canteen\",\n    \"BusinessTypeID\":\"\",\n    \"AddressLine1\":\"Penang Flavours\",\n    \"AddressLine2\":\"146A Plumstead Rd\",\n    \"AddressLine3\":\"London\",\n    \"AddressLine4\":\"\",\n    \"PostCode\":\"SE18 7DY\",\n    \"Phone\":\"\",\n    \"LocalAuthorityCode\":\"511\",\n    \"LocalAuthorityName\":\"Greenwich\",\n    \"LocalAuthorityWebSite\":\"http://www.royalgreenwich.gov.uk\",\n    \"LocalAuthorityEmailAddress\":\"health@royalgreenwich.gov.uk\",\n    \"scores\":{\n        \"Hygiene\":\"\",\n        \"Structural\":\"\",\n        \"ConfidenceInManagement\":\"\"\n    },\n    \"SchemeType\":\"FHRS\",\n    \"geocode\":{\n        \"longitude\":\"0.08384000\",\n        \"latitude\":\"51.49014200\"\n    },\n    \"RightToReply\":\"\",\n    \"Distance\":4623.9723280747176,\n    \"NewRatingPending\":True\n}\n\n",
      "metadata": {},
      "outputs": [],
      "execution_count": null
    },
    {
      "id": "a6e5cece",
      "cell_type": "code",
      "source": "# Insert the new restaurant into the collection\nestablishments.insert_one(new_restaurant)",
      "metadata": {},
      "outputs": [],
      "execution_count": null
    },
    {
      "id": "63bb10f9",
      "cell_type": "code",
      "source": "# Check that the new restaurant was inserted\nestablishments.find_one({'BusinessName':'Penang Flavours'})",
      "metadata": {},
      "outputs": [],
      "execution_count": null
    },
    {
      "id": "0ef4395a",
      "cell_type": "markdown",
      "source": "2. Find the BusinessTypeID for \"Restaurant/Cafe/Canteen\" and return only the `BusinessTypeID` and `BusinessType` fields.",
      "metadata": {}
    },
    {
      "id": "93c63829",
      "cell_type": "code",
      "source": "# Find the BusinessTypeID for \"Restaurant/Cafe/Canteen\" and return only the BusinessTypeID and BusinessType fields\nquery = {'BusinessType': 'Restaurant/Cafe/Canteen'}\nfields = ['BusinessTypeID', 'BusinessType']\n\nestablishments.find_one(query, fields)",
      "metadata": {},
      "outputs": [],
      "execution_count": null
    },
    {
      "id": "4e570caf",
      "cell_type": "markdown",
      "source": "3. Update the new restaurant with the `BusinessTypeID` you found.",
      "metadata": {}
    },
    {
      "id": "7f599f3d",
      "cell_type": "code",
      "source": "# Update the new restaurant with the correct BusinessTypeID\nestablishments.update_one(\n    new_restaurant, \n    {'$set': \n        {'BusinessTypeID': 1}\n    }\n)",
      "metadata": {},
      "outputs": [],
      "execution_count": null
    },
    {
      "id": "a6ad16f7",
      "cell_type": "code",
      "source": "# Confirm that the new restaurant was updated\nestablishments.find_one({'BusinessName':'Penang Flavours'})",
      "metadata": {},
      "outputs": [],
      "execution_count": null
    },
    {
      "id": "67281254",
      "cell_type": "markdown",
      "source": "4. The magazine is not interested in any establishments in Dover, so check how many documents contain the Dover Local Authority. Then, remove any establishments within the Dover Local Authority from the database, and check the number of documents to ensure they were deleted.",
      "metadata": {}
    },
    {
      "id": "768474a6",
      "cell_type": "code",
      "source": "# Find how many documents have LocalAuthorityName as \"Dover\"\nestablishments.count_documents({'LocalAuthorityName': 'Dover'})",
      "metadata": {},
      "outputs": [],
      "execution_count": null
    },
    {
      "id": "a11d5f1b",
      "cell_type": "code",
      "source": "# Delete all documents where LocalAuthorityName is \"Dover\"\nestablishments.delete_many({'LocalAuthorityName': 'Dover'})",
      "metadata": {},
      "outputs": [],
      "execution_count": null
    },
    {
      "id": "2a51aba0",
      "cell_type": "code",
      "source": "# Check if any remaining documents include Dover\npprint(establishments.count_documents({'LocalAuthorityName': 'Dover'}))",
      "metadata": {},
      "outputs": [],
      "execution_count": null
    },
    {
      "id": "8c356f7b",
      "cell_type": "code",
      "source": "# Check that other documents remain with 'find_one'\nstablishments.find_one({})",
      "metadata": {},
      "outputs": [],
      "execution_count": null
    },
    {
      "id": "e9f1662d",
      "cell_type": "markdown",
      "source": "5. Some of the number values are stored as strings, when they should be stored as numbers.",
      "metadata": {},
      "attachments": {}
    },
    {
      "id": "c46df2df",
      "cell_type": "markdown",
      "source": "Use `update_many` to convert `latitude` and `longitude` to decimal numbers.",
      "metadata": {},
      "attachments": {}
    },
    {
      "id": "fd4112ce",
      "cell_type": "code",
      "source": "# Change the data type from String to Decimal for longitude and latitude\nestablishments.update_many({}, [{'$set': {'geocode.longitude': {'$toDouble': '$geocode.longitude'}, \n                                         'geocode.latitude': {'$toDouble': '$geocode.latitude'}\n                                         }\n                                }\n                               ]\n                          )",
      "metadata": {},
      "outputs": [],
      "execution_count": null
    },
    {
      "id": "142e319c",
      "cell_type": "markdown",
      "source": "Use `update_many` to convert `RatingValue` to integer numbers.",
      "metadata": {},
      "attachments": {}
    },
    {
      "id": "04430a5b",
      "cell_type": "code",
      "source": "# Set non 1-5 Rating Values to Null\nnon_ratings = [\"AwaitingInspection\", \"Awaiting Inspection\", \"AwaitingPublication\", \"Pass\", \"Exempt\"]\nestablishments.update_many({\"RatingValue\": {\"$in\": non_ratings}}, [ {'$set':{ \"RatingValue\" : None}} ])",
      "metadata": {},
      "outputs": [],
      "execution_count": null
    },
    {
      "id": "92524ccc",
      "cell_type": "code",
      "source": "# Change the data type from String to Integer for RatingValue\nupdate_operation = {\n    \"$set\": {\"RatingValue\": {\"$toInt\": \"$RatingValue\"}}\n}",
      "metadata": {},
      "outputs": [],
      "execution_count": null
    },
    {
      "id": "0deacaf9",
      "cell_type": "code",
      "source": "# Check that the coordinates and rating value are now numbers\n",
      "metadata": {},
      "outputs": [],
      "execution_count": null
    }
  ]
}